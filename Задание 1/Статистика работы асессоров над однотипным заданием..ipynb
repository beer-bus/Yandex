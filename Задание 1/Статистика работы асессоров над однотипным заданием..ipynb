{
 "cells": [
  {
   "cell_type": "markdown",
   "metadata": {},
   "source": [
    "# Задание\n",
    "\n",
    "Пояснение к формату: login — логин асессора; tid — id оцениваемого задания (task id); Microtasks – количество микрозаданий в одном задании; assigned_ts — время резервирования системой задания для асессора; closed_ts — точное время завершения работы над заданием; разделитель — табуляция \\t.\n",
    "\n",
    "Задание может состоять из одного или несколько микрозаданий. Время резервирования задания (assigned_ts) указывает на тот момент, когда система назначила определенного асессора исполнителем этого задания. Этот момент может совпадать с временем начала работы асессора над заданием, а может и не совпадать (асессор может отойти выпить чаю, а потом приступить к заданию, асессор может выполнять предыдущее задание, в то время как за ним зарезервированы новые).\n",
    "\n",
    "Предположим, что асессор за 30 секунд своего рабочего времени получает N рублей.\n",
    "\n",
    "Какую оплату вы считаете справедливой для выполнения асессором одного микрозадания из этого файла? Опишите подробно все этапы вашего решения"
   ]
  },
  {
   "cell_type": "code",
   "execution_count": 1,
   "metadata": {},
   "outputs": [],
   "source": [
    "import pandas as pd\n",
    "import matplotlib.pyplot as plt\n",
    "import seaborn as sns\n",
    "from itertools import combinations\n",
    "from scipy.stats import ttest_ind"
   ]
  },
  {
   "cell_type": "code",
   "execution_count": 2,
   "metadata": {},
   "outputs": [],
   "source": [
    "# Функция numeral_data_processing проводит первичный анализ численных данных,\n",
    "# выдает описание значений, гистограмму распределения всех данных и гистограмму\n",
    "# распределения межквартильного разброса\n",
    "\n",
    "def numeral_data_processing(df, column):\n",
    "    \n",
    "    print('\\n\\n',column)\n",
    "    df[column].hist()\n",
    "    plt.show()\n",
    "    display(df[column].describe())\n",
    "    empty = df[column].isnull().sum()\n",
    "    print('Пустых значений в столбце: {:d}'.format(empty))\n",
    "    \n",
    "    print('\\n\\n',column,'IQR')\n",
    "    median = df[column].median()\n",
    "    IQR = df[column].quantile(0.75) - df[column].quantile(0.25)\n",
    "    perc25 = df[column].quantile(0.25)\n",
    "    perc75 = df[column].quantile(0.75)\n",
    "    print('25-й перцентиль: {},'.format(perc25), '75-й перцентиль: {},'.format(perc75)\n",
    "          , \"IQR: {}, \".format(IQR),\"Границы выбросов: [{f}, {l}].\".format(f=perc25 - 1.5*IQR, l=perc75 + 1.5*IQR))\n",
    "    df[column].loc[df[column].between(perc25 - 1.5*IQR, perc75 + 1.5*IQR)].hist()\n",
    "    plt.show()"
   ]
  },
  {
   "cell_type": "code",
   "execution_count": 3,
   "metadata": {},
   "outputs": [
    {
     "data": {
      "text/html": [
       "<div>\n",
       "<style scoped>\n",
       "    .dataframe tbody tr th:only-of-type {\n",
       "        vertical-align: middle;\n",
       "    }\n",
       "\n",
       "    .dataframe tbody tr th {\n",
       "        vertical-align: top;\n",
       "    }\n",
       "\n",
       "    .dataframe thead th {\n",
       "        text-align: right;\n",
       "    }\n",
       "</style>\n",
       "<table border=\"1\" class=\"dataframe\">\n",
       "  <thead>\n",
       "    <tr style=\"text-align: right;\">\n",
       "      <th></th>\n",
       "      <th>login</th>\n",
       "      <th>tid</th>\n",
       "      <th>Microtasks</th>\n",
       "      <th>assigned_ts</th>\n",
       "      <th>closed_ts</th>\n",
       "    </tr>\n",
       "  </thead>\n",
       "  <tbody>\n",
       "    <tr>\n",
       "      <th>0</th>\n",
       "      <td>login0</td>\n",
       "      <td>190563850.0</td>\n",
       "      <td>4.0</td>\n",
       "      <td>2017-04-20 12:09:39</td>\n",
       "      <td>2017-04-20 13:13:01</td>\n",
       "    </tr>\n",
       "  </tbody>\n",
       "</table>\n",
       "</div>"
      ],
      "text/plain": [
       "    login          tid  Microtasks          assigned_ts            closed_ts\n",
       "0  login0  190563850.0         4.0  2017-04-20 12:09:39  2017-04-20 13:13:01"
      ]
     },
     "execution_count": 3,
     "metadata": {},
     "output_type": "execute_result"
    }
   ],
   "source": [
    "asessors = pd.read_csv('data1.txt', sep='\\t')\n",
    "asessors.head(1)"
   ]
  },
  {
   "cell_type": "markdown",
   "metadata": {},
   "source": [
    "Проверим данные на наличие пропусков"
   ]
  },
  {
   "cell_type": "code",
   "execution_count": 4,
   "metadata": {
    "scrolled": true
   },
   "outputs": [
    {
     "name": "stdout",
     "output_type": "stream",
     "text": [
      "<class 'pandas.core.frame.DataFrame'>\n",
      "RangeIndex: 701827 entries, 0 to 701826\n",
      "Data columns (total 5 columns):\n",
      " #   Column       Non-Null Count   Dtype  \n",
      "---  ------       --------------   -----  \n",
      " 0   login        701827 non-null  object \n",
      " 1   tid          701827 non-null  float64\n",
      " 2   Microtasks   701827 non-null  float64\n",
      " 3   assigned_ts  701827 non-null  object \n",
      " 4   closed_ts    701827 non-null  object \n",
      "dtypes: float64(2), object(3)\n",
      "memory usage: 26.8+ MB\n"
     ]
    }
   ],
   "source": [
    "asessors.info()"
   ]
  },
  {
   "cell_type": "markdown",
   "metadata": {},
   "source": [
    "Переведем дату в нужный формат str -> datatime"
   ]
  },
  {
   "cell_type": "code",
   "execution_count": 5,
   "metadata": {},
   "outputs": [],
   "source": [
    "asessors.assigned_ts = pd.to_datetime(asessors.assigned_ts)\n",
    "asessors.closed_ts = pd.to_datetime(asessors.closed_ts)"
   ]
  },
  {
   "cell_type": "markdown",
   "metadata": {},
   "source": [
    "Добавим столбец времени выполнения задачи"
   ]
  },
  {
   "cell_type": "code",
   "execution_count": 6,
   "metadata": {},
   "outputs": [],
   "source": [
    "asessors['time_ts'] = asessors.closed_ts - asessors.assigned_ts"
   ]
  },
  {
   "cell_type": "markdown",
   "metadata": {},
   "source": [
    "Добавим столбцы среднего времени выполнения подзадачи, и среднего времени выполнения в секундах "
   ]
  },
  {
   "cell_type": "code",
   "execution_count": 7,
   "metadata": {},
   "outputs": [
    {
     "data": {
      "text/html": [
       "<div>\n",
       "<style scoped>\n",
       "    .dataframe tbody tr th:only-of-type {\n",
       "        vertical-align: middle;\n",
       "    }\n",
       "\n",
       "    .dataframe tbody tr th {\n",
       "        vertical-align: top;\n",
       "    }\n",
       "\n",
       "    .dataframe thead th {\n",
       "        text-align: right;\n",
       "    }\n",
       "</style>\n",
       "<table border=\"1\" class=\"dataframe\">\n",
       "  <thead>\n",
       "    <tr style=\"text-align: right;\">\n",
       "      <th></th>\n",
       "      <th>login</th>\n",
       "      <th>tid</th>\n",
       "      <th>Microtasks</th>\n",
       "      <th>assigned_ts</th>\n",
       "      <th>closed_ts</th>\n",
       "      <th>time_ts</th>\n",
       "      <th>mean_microtask_time</th>\n",
       "      <th>mean_microtask_time_seconds</th>\n",
       "    </tr>\n",
       "  </thead>\n",
       "  <tbody>\n",
       "    <tr>\n",
       "      <th>0</th>\n",
       "      <td>login0</td>\n",
       "      <td>190563850.0</td>\n",
       "      <td>4.0</td>\n",
       "      <td>2017-04-20 12:09:39</td>\n",
       "      <td>2017-04-20 13:13:01</td>\n",
       "      <td>0 days 01:03:22</td>\n",
       "      <td>0 days 00:15:50.500000</td>\n",
       "      <td>950</td>\n",
       "    </tr>\n",
       "    <tr>\n",
       "      <th>1</th>\n",
       "      <td>login0</td>\n",
       "      <td>190561754.0</td>\n",
       "      <td>1.0</td>\n",
       "      <td>2017-04-20 12:10:30</td>\n",
       "      <td>2017-04-20 12:28:29</td>\n",
       "      <td>0 days 00:17:59</td>\n",
       "      <td>0 days 00:17:59</td>\n",
       "      <td>1079</td>\n",
       "    </tr>\n",
       "    <tr>\n",
       "      <th>2</th>\n",
       "      <td>login0</td>\n",
       "      <td>190565906.0</td>\n",
       "      <td>4.0</td>\n",
       "      <td>2017-04-20 12:21:31</td>\n",
       "      <td>2017-04-20 13:30:10</td>\n",
       "      <td>0 days 01:08:39</td>\n",
       "      <td>0 days 00:17:09.750000</td>\n",
       "      <td>1029</td>\n",
       "    </tr>\n",
       "    <tr>\n",
       "      <th>3</th>\n",
       "      <td>login0</td>\n",
       "      <td>190560246.0</td>\n",
       "      <td>1.0</td>\n",
       "      <td>2017-04-20 12:28:30</td>\n",
       "      <td>2017-04-20 13:13:56</td>\n",
       "      <td>0 days 00:45:26</td>\n",
       "      <td>0 days 00:45:26</td>\n",
       "      <td>2726</td>\n",
       "    </tr>\n",
       "    <tr>\n",
       "      <th>4</th>\n",
       "      <td>login0</td>\n",
       "      <td>190562168.0</td>\n",
       "      <td>2.0</td>\n",
       "      <td>2017-04-20 12:28:42</td>\n",
       "      <td>2017-04-20 13:14:50</td>\n",
       "      <td>0 days 00:46:08</td>\n",
       "      <td>0 days 00:23:04</td>\n",
       "      <td>1384</td>\n",
       "    </tr>\n",
       "  </tbody>\n",
       "</table>\n",
       "</div>"
      ],
      "text/plain": [
       "    login          tid  Microtasks         assigned_ts           closed_ts  \\\n",
       "0  login0  190563850.0         4.0 2017-04-20 12:09:39 2017-04-20 13:13:01   \n",
       "1  login0  190561754.0         1.0 2017-04-20 12:10:30 2017-04-20 12:28:29   \n",
       "2  login0  190565906.0         4.0 2017-04-20 12:21:31 2017-04-20 13:30:10   \n",
       "3  login0  190560246.0         1.0 2017-04-20 12:28:30 2017-04-20 13:13:56   \n",
       "4  login0  190562168.0         2.0 2017-04-20 12:28:42 2017-04-20 13:14:50   \n",
       "\n",
       "          time_ts    mean_microtask_time  mean_microtask_time_seconds  \n",
       "0 0 days 01:03:22 0 days 00:15:50.500000                          950  \n",
       "1 0 days 00:17:59        0 days 00:17:59                         1079  \n",
       "2 0 days 01:08:39 0 days 00:17:09.750000                         1029  \n",
       "3 0 days 00:45:26        0 days 00:45:26                         2726  \n",
       "4 0 days 00:46:08        0 days 00:23:04                         1384  "
      ]
     },
     "execution_count": 7,
     "metadata": {},
     "output_type": "execute_result"
    }
   ],
   "source": [
    "asessors['mean_microtask_time'] = asessors.time_ts / asessors.Microtasks\n",
    "asessors['mean_microtask_time_seconds'] = asessors.mean_microtask_time.apply(lambda x: x.seconds)\n",
    "asessors.head()"
   ]
  },
  {
   "cell_type": "markdown",
   "metadata": {},
   "source": [
    "Посмотрим как отличается медианное и среднее время выполнения подзаданий сгруппированных по номеру задания"
   ]
  },
  {
   "cell_type": "code",
   "execution_count": 8,
   "metadata": {},
   "outputs": [
    {
     "data": {
      "text/plain": [
       "459.7825248158393"
      ]
     },
     "execution_count": 8,
     "metadata": {},
     "output_type": "execute_result"
    }
   ],
   "source": [
    "asessors.groupby('tid').mean_microtask_time_seconds.mean().mean()"
   ]
  },
  {
   "cell_type": "code",
   "execution_count": 9,
   "metadata": {},
   "outputs": [
    {
     "data": {
      "text/plain": [
       "74.0"
      ]
     },
     "execution_count": 9,
     "metadata": {},
     "output_type": "execute_result"
    }
   ],
   "source": [
    "asessors.groupby('tid').mean_microtask_time_seconds.median().median()"
   ]
  },
  {
   "cell_type": "markdown",
   "metadata": {},
   "source": [
    "Видно, что они существенно отличаются, значит в данных могут быть выбросы"
   ]
  },
  {
   "cell_type": "code",
   "execution_count": 10,
   "metadata": {},
   "outputs": [
    {
     "name": "stdout",
     "output_type": "stream",
     "text": [
      "\n",
      "\n",
      " mean_microtask_time_seconds\n"
     ]
    },
    {
     "data": {
      "image/png": "[encoded data removed]",
      "text/plain": [
       "<Figure size 432x288 with 1 Axes>"
      ]
     },
     "metadata": {
      "needs_background": "light"
     },
     "output_type": "display_data"
    },
    {
     "data": {
      "text/plain": [
       "count    701827.000000\n",
       "mean        515.157570\n",
       "std        2849.413296\n",
       "min           1.000000\n",
       "25%          37.000000\n",
       "50%          75.000000\n",
       "75%         182.000000\n",
       "max       86346.000000\n",
       "Name: mean_microtask_time_seconds, dtype: float64"
      ]
     },
     "metadata": {},
     "output_type": "display_data"
    },
    {
     "name": "stdout",
     "output_type": "stream",
     "text": [
      "Пустых значений в столбце: 0\n",
      "\n",
      "\n",
      " mean_microtask_time_seconds IQR\n",
      "25-й перцентиль: 37.0, 75-й перцентиль: 182.0, IQR: 145.0,  Границы выбросов: [-180.5, 399.5].\n"
     ]
    },
    {
     "data": {
      "image/png": "[encoded data removed]",
      "text/plain": [
       "<Figure size 432x288 with 1 Axes>"
      ]
     },
     "metadata": {
      "needs_background": "light"
     },
     "output_type": "display_data"
    }
   ],
   "source": [
    "numeral_data_processing(asessors, 'mean_microtask_time_seconds')"
   ]
  },
  {
   "cell_type": "markdown",
   "metadata": {},
   "source": [
    "Может быть какие-то задачи сложнее других?\n",
    "посмотрим как выполняется задача, чаще всех попавшая в список долговыполняющихся"
   ]
  },
  {
   "cell_type": "code",
   "execution_count": 11,
   "metadata": {},
   "outputs": [
    {
     "data": {
      "text/plain": [
       "tid\n",
       "113958663.0     1\n",
       "195383986.0     1\n",
       "195383964.0     1\n",
       "195383934.0     1\n",
       "195383922.0     1\n",
       "               ..\n",
       "136579706.0    31\n",
       "171470568.0    34\n",
       "188676794.0    36\n",
       "195476986.0    40\n",
       "196322338.0    40\n",
       "Name: login, Length: 85870, dtype: int64"
      ]
     },
     "execution_count": 11,
     "metadata": {},
     "output_type": "execute_result"
    }
   ],
   "source": [
    "asessors[asessors.mean_microtask_time_seconds > 400].groupby('tid').login.count().sort_values()"
   ]
  },
  {
   "cell_type": "code",
   "execution_count": 12,
   "metadata": {},
   "outputs": [
    {
     "data": {
      "text/html": [
       "<div>\n",
       "<style scoped>\n",
       "    .dataframe tbody tr th:only-of-type {\n",
       "        vertical-align: middle;\n",
       "    }\n",
       "\n",
       "    .dataframe tbody tr th {\n",
       "        vertical-align: top;\n",
       "    }\n",
       "\n",
       "    .dataframe thead th {\n",
       "        text-align: right;\n",
       "    }\n",
       "</style>\n",
       "<table border=\"1\" class=\"dataframe\">\n",
       "  <thead>\n",
       "    <tr style=\"text-align: right;\">\n",
       "      <th></th>\n",
       "      <th>login</th>\n",
       "      <th>tid</th>\n",
       "      <th>Microtasks</th>\n",
       "      <th>assigned_ts</th>\n",
       "      <th>closed_ts</th>\n",
       "      <th>time_ts</th>\n",
       "      <th>mean_microtask_time</th>\n",
       "      <th>mean_microtask_time_seconds</th>\n",
       "    </tr>\n",
       "  </thead>\n",
       "  <tbody>\n",
       "    <tr>\n",
       "      <th>24452</th>\n",
       "      <td>login10</td>\n",
       "      <td>196322338.0</td>\n",
       "      <td>1.0</td>\n",
       "      <td>2017-05-27 14:32:38</td>\n",
       "      <td>2017-05-27 15:16:55</td>\n",
       "      <td>0 days 00:44:17</td>\n",
       "      <td>0 days 00:44:17</td>\n",
       "      <td>2657</td>\n",
       "    </tr>\n",
       "    <tr>\n",
       "      <th>24520</th>\n",
       "      <td>login11</td>\n",
       "      <td>196322338.0</td>\n",
       "      <td>1.0</td>\n",
       "      <td>2017-05-31 14:11:04</td>\n",
       "      <td>2017-05-31 14:16:55</td>\n",
       "      <td>0 days 00:05:51</td>\n",
       "      <td>0 days 00:05:51</td>\n",
       "      <td>351</td>\n",
       "    </tr>\n",
       "    <tr>\n",
       "      <th>28182</th>\n",
       "      <td>login16</td>\n",
       "      <td>196322338.0</td>\n",
       "      <td>1.0</td>\n",
       "      <td>2017-05-31 09:57:26</td>\n",
       "      <td>2017-05-31 10:00:56</td>\n",
       "      <td>0 days 00:03:30</td>\n",
       "      <td>0 days 00:03:30</td>\n",
       "      <td>210</td>\n",
       "    </tr>\n",
       "    <tr>\n",
       "      <th>29236</th>\n",
       "      <td>login16</td>\n",
       "      <td>196322338.0</td>\n",
       "      <td>1.0</td>\n",
       "      <td>2017-05-31 09:57:26</td>\n",
       "      <td>2017-05-31 10:00:56</td>\n",
       "      <td>0 days 00:03:30</td>\n",
       "      <td>0 days 00:03:30</td>\n",
       "      <td>210</td>\n",
       "    </tr>\n",
       "    <tr>\n",
       "      <th>34421</th>\n",
       "      <td>login21</td>\n",
       "      <td>196322338.0</td>\n",
       "      <td>1.0</td>\n",
       "      <td>2017-05-30 22:25:10</td>\n",
       "      <td>2017-05-30 22:25:26</td>\n",
       "      <td>0 days 00:00:16</td>\n",
       "      <td>0 days 00:00:16</td>\n",
       "      <td>16</td>\n",
       "    </tr>\n",
       "    <tr>\n",
       "      <th>...</th>\n",
       "      <td>...</td>\n",
       "      <td>...</td>\n",
       "      <td>...</td>\n",
       "      <td>...</td>\n",
       "      <td>...</td>\n",
       "      <td>...</td>\n",
       "      <td>...</td>\n",
       "      <td>...</td>\n",
       "    </tr>\n",
       "    <tr>\n",
       "      <th>654903</th>\n",
       "      <td>login715</td>\n",
       "      <td>196322338.0</td>\n",
       "      <td>1.0</td>\n",
       "      <td>2017-05-29 00:11:43</td>\n",
       "      <td>2017-05-29 00:24:33</td>\n",
       "      <td>0 days 00:12:50</td>\n",
       "      <td>0 days 00:12:50</td>\n",
       "      <td>770</td>\n",
       "    </tr>\n",
       "    <tr>\n",
       "      <th>668437</th>\n",
       "      <td>login729</td>\n",
       "      <td>196322338.0</td>\n",
       "      <td>1.0</td>\n",
       "      <td>2017-05-31 10:58:05</td>\n",
       "      <td>2017-05-31 10:59:32</td>\n",
       "      <td>0 days 00:01:27</td>\n",
       "      <td>0 days 00:01:27</td>\n",
       "      <td>87</td>\n",
       "    </tr>\n",
       "    <tr>\n",
       "      <th>691481</th>\n",
       "      <td>login750</td>\n",
       "      <td>196322338.0</td>\n",
       "      <td>1.0</td>\n",
       "      <td>2017-05-31 09:33:43</td>\n",
       "      <td>2017-05-31 09:36:56</td>\n",
       "      <td>0 days 00:03:13</td>\n",
       "      <td>0 days 00:03:13</td>\n",
       "      <td>193</td>\n",
       "    </tr>\n",
       "    <tr>\n",
       "      <th>692006</th>\n",
       "      <td>login753</td>\n",
       "      <td>196322338.0</td>\n",
       "      <td>1.0</td>\n",
       "      <td>2017-05-31 12:57:03</td>\n",
       "      <td>2017-06-01 03:09:52</td>\n",
       "      <td>0 days 14:12:49</td>\n",
       "      <td>0 days 14:12:49</td>\n",
       "      <td>51169</td>\n",
       "    </tr>\n",
       "    <tr>\n",
       "      <th>700944</th>\n",
       "      <td>login763</td>\n",
       "      <td>196322338.0</td>\n",
       "      <td>1.0</td>\n",
       "      <td>2017-05-31 06:42:10</td>\n",
       "      <td>2017-05-31 06:43:05</td>\n",
       "      <td>0 days 00:00:55</td>\n",
       "      <td>0 days 00:00:55</td>\n",
       "      <td>55</td>\n",
       "    </tr>\n",
       "  </tbody>\n",
       "</table>\n",
       "<p>86 rows × 8 columns</p>\n",
       "</div>"
      ],
      "text/plain": [
       "           login          tid  Microtasks         assigned_ts  \\\n",
       "24452    login10  196322338.0         1.0 2017-05-27 14:32:38   \n",
       "24520    login11  196322338.0         1.0 2017-05-31 14:11:04   \n",
       "28182    login16  196322338.0         1.0 2017-05-31 09:57:26   \n",
       "29236    login16  196322338.0         1.0 2017-05-31 09:57:26   \n",
       "34421    login21  196322338.0         1.0 2017-05-30 22:25:10   \n",
       "...          ...          ...         ...                 ...   \n",
       "654903  login715  196322338.0         1.0 2017-05-29 00:11:43   \n",
       "668437  login729  196322338.0         1.0 2017-05-31 10:58:05   \n",
       "691481  login750  196322338.0         1.0 2017-05-31 09:33:43   \n",
       "692006  login753  196322338.0         1.0 2017-05-31 12:57:03   \n",
       "700944  login763  196322338.0         1.0 2017-05-31 06:42:10   \n",
       "\n",
       "                 closed_ts         time_ts mean_microtask_time  \\\n",
       "24452  2017-05-27 15:16:55 0 days 00:44:17     0 days 00:44:17   \n",
       "24520  2017-05-31 14:16:55 0 days 00:05:51     0 days 00:05:51   \n",
       "28182  2017-05-31 10:00:56 0 days 00:03:30     0 days 00:03:30   \n",
       "29236  2017-05-31 10:00:56 0 days 00:03:30     0 days 00:03:30   \n",
       "34421  2017-05-30 22:25:26 0 days 00:00:16     0 days 00:00:16   \n",
       "...                    ...             ...                 ...   \n",
       "654903 2017-05-29 00:24:33 0 days 00:12:50     0 days 00:12:50   \n",
       "668437 2017-05-31 10:59:32 0 days 00:01:27     0 days 00:01:27   \n",
       "691481 2017-05-31 09:36:56 0 days 00:03:13     0 days 00:03:13   \n",
       "692006 2017-06-01 03:09:52 0 days 14:12:49     0 days 14:12:49   \n",
       "700944 2017-05-31 06:43:05 0 days 00:00:55     0 days 00:00:55   \n",
       "\n",
       "        mean_microtask_time_seconds  \n",
       "24452                          2657  \n",
       "24520                           351  \n",
       "28182                           210  \n",
       "29236                           210  \n",
       "34421                            16  \n",
       "...                             ...  \n",
       "654903                          770  \n",
       "668437                           87  \n",
       "691481                          193  \n",
       "692006                        51169  \n",
       "700944                           55  \n",
       "\n",
       "[86 rows x 8 columns]"
      ]
     },
     "execution_count": 12,
     "metadata": {},
     "output_type": "execute_result"
    }
   ],
   "source": [
    "asessors[asessors.tid == 196322338.0]"
   ]
  },
  {
   "cell_type": "markdown",
   "metadata": {},
   "source": [
    "Судя по тому, что данная задача может выполняться быстро - дело в пользователях"
   ]
  },
  {
   "cell_type": "markdown",
   "metadata": {},
   "source": [
    "Отсортируем пользователей, если среднее время выполнения подзадач отличается в большую сторону от медианного времени выполнения всех подзадач, то не будем учитывать данного пользователя в оценке"
   ]
  },
  {
   "cell_type": "code",
   "execution_count": 13,
   "metadata": {},
   "outputs": [],
   "source": [
    "mean_per_user = asessors.groupby('login').mean_microtask_time_seconds.mean()\n",
    "median_user_time = asessors.groupby('login').mean_microtask_time_seconds.mean().median()\n",
    "IQR = mean_per_user.quantile(0.75) - mean_per_user.quantile(0.25)"
   ]
  },
  {
   "cell_type": "code",
   "execution_count": 14,
   "metadata": {},
   "outputs": [],
   "source": [
    "good_users_1 = mean_per_user[mean_per_user <= (median_user_time + 1.5 * IQR)].keys() #Вариант с выявлением выбросов по принципу межквартильного разброса\n",
    "good_users_2 = mean_per_user[mean_per_user <= (median_user_time)].keys() #Вариант с выявлением выбросов, как превышение медианного значения\n",
    "asessors = asessors[asessors.login.isin(good_users_2)]"
   ]
  },
  {
   "cell_type": "code",
   "execution_count": 21,
   "metadata": {},
   "outputs": [],
   "source": [
    "fair_pay = round(asessors.groupby('tid').mean_microtask_time_seconds.mean().median())*1.5"
   ]
  },
  {
   "cell_type": "code",
   "execution_count": 23,
   "metadata": {},
   "outputs": [
    {
     "data": {
      "text/plain": [
       "88.5"
      ]
     },
     "execution_count": 23,
     "metadata": {},
     "output_type": "execute_result"
    }
   ],
   "source": [
    "fair_pay"
   ]
  },
  {
   "cell_type": "code",
   "execution_count": null,
   "metadata": {},
   "outputs": [],
   "source": []
  }
 ],
 "metadata": {
  "kernelspec": {
   "display_name": "Python 3",
   "language": "python",
   "name": "python3"
  },
  "language_info": {
   "codemirror_mode": {
    "name": "ipython",
    "version": 3
   },
   "file_extension": ".py",
   "mimetype": "text/x-python",
   "name": "python",
   "nbconvert_exporter": "python",
   "pygments_lexer": "ipython3",
   "version": "3.7.3"
  }
 },
 "nbformat": 4,
 "nbformat_minor": 2
}
